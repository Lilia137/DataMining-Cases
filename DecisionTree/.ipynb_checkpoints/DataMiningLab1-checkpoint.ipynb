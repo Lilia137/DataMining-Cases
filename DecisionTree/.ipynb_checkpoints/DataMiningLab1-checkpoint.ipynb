{
 "cells": [
  {
   "cell_type": "code",
   "execution_count": 1,
   "id": "c98926eb",
   "metadata": {},
   "outputs": [],
   "source": [
    "import csv\n",
    "import numpy as np\n",
    "import pandas as pd\n",
    "from math import log\n",
    "import seaborn as sns\n",
    "import matplotlib.pyplot as plt"
   ]
  },
  {
   "cell_type": "code",
   "execution_count": null,
   "id": "6af4b9b0",
   "metadata": {},
   "outputs": [],
   "source": [
    "df=pd.read_csv(\"train_feature.csv\")\n",
    "df"
   ]
  },
  {
   "cell_type": "code",
   "execution_count": null,
   "id": "5c7cd47f",
   "metadata": {},
   "outputs": [],
   "source": [
    "sns.heatmap(df.isnull(),cmap='BuPu')"
   ]
  },
  {
   "cell_type": "code",
   "execution_count": null,
   "id": "f7ceae87",
   "metadata": {},
   "outputs": [],
   "source": [
    "corr=df.corr()\n",
    "plt.figure(figsize=(20, 10))\n",
    "sns.heatmap(corr,cmap='GnBu',annot=True,)"
   ]
  },
  {
   "cell_type": "code",
   "execution_count": null,
   "id": "9153cfcf",
   "metadata": {},
   "outputs": [],
   "source": [
    "df.info()"
   ]
  },
  {
   "cell_type": "code",
   "execution_count": 2,
   "id": "e56fbd1d",
   "metadata": {},
   "outputs": [],
   "source": [
    "# 读文件获取训练数据集\n",
    "# dataSet:数据集；features:特征名称；lable:标签集\n",
    "def getDataSet():\n",
    "    X = []\n",
    "    with open('train_feature.csv', 'r') as f:\n",
    "        reader = csv.reader(f)\n",
    "        header = next(reader)\n",
    "        print(header) #属性名称，数据第一行\n",
    "        for row in reader:\n",
    "            X.append(row)\n",
    "    dataSet = np.array(X)\n",
    "    lables=np.array(header)\n",
    "    # 规范化数据集和特征\n",
    "    lable=dataSet[:,5]\n",
    "    dataSet = np.delete(dataSet, 5, 1)\n",
    "    dataSet = np.insert(dataSet, 15, values=lable, axis=1)\n",
    "    features = np.delete(lables, 5)\n",
    "    lable = np.array(lable)\n",
    "    return dataSet,features,lable"
   ]
  },
  {
   "cell_type": "code",
   "execution_count": 3,
   "id": "913f6605",
   "metadata": {},
   "outputs": [
    {
     "name": "stdout",
     "output_type": "stream",
     "text": [
      "['ip', 'app', 'device', 'os', 'channel', 'is_attributed', 'day', 'hour', 'minute', 'ip_count', 'app_count', 'device_count', 'os_count', 'channel_count', 'hour_count', 'minute_count']\n"
     ]
    }
   ],
   "source": [
    "dataSet,features,lable=getDataSet()"
   ]
  },
  {
   "cell_type": "code",
   "execution_count": null,
   "id": "f21bfdba",
   "metadata": {},
   "outputs": [],
   "source": [
    "dataSet"
   ]
  },
  {
   "cell_type": "code",
   "execution_count": null,
   "id": "ca2afe76",
   "metadata": {},
   "outputs": [],
   "source": [
    "features"
   ]
  },
  {
   "cell_type": "code",
   "execution_count": null,
   "id": "2466647a",
   "metadata": {},
   "outputs": [],
   "source": [
    "lable.shape"
   ]
  },
  {
   "cell_type": "code",
   "execution_count": 4,
   "id": "7097b469",
   "metadata": {},
   "outputs": [],
   "source": [
    "def computeEntropy(dataSet):\n",
    "    total = len(dataSet)\n",
    "    lableCount = {}\n",
    "    for sample in dataSet:\n",
    "        lable = sample[-1]\n",
    "        if lable not in lableCount:\n",
    "            lableCount[lable]=1\n",
    "        else:\n",
    "            lableCount[lable]+=1\n",
    "    Entropy = 0\n",
    "    for key in lableCount:\n",
    "        P = float(lableCount[key]/total)\n",
    "        Entropy -= P*log(P,2)\n",
    "    return Entropy"
   ]
  },
  {
   "cell_type": "code",
   "execution_count": null,
   "id": "9a83e295",
   "metadata": {},
   "outputs": [],
   "source": [
    "dataSet[0:5]"
   ]
  },
  {
   "cell_type": "code",
   "execution_count": null,
   "id": "68a69fed",
   "metadata": {},
   "outputs": [],
   "source": [
    "test=computeEntropy(dataSet[0:7000000])\n",
    "test"
   ]
  },
  {
   "cell_type": "code",
   "execution_count": null,
   "id": "1f5f02b7",
   "metadata": {},
   "outputs": [],
   "source": [
    "df.groupby(by=\"is_attributed\").count()"
   ]
  },
  {
   "cell_type": "code",
   "execution_count": 5,
   "id": "268ba3bb",
   "metadata": {},
   "outputs": [],
   "source": [
    "# 找到可以用于分支的最佳特征，即使得信息增益最大的特征值\n",
    "def findBestFeature(dataSet,features):\n",
    "    maxGain = 0\n",
    "    newEntropy = 0\n",
    "    bestFeature = -1  # 最大熵增的特征,在特征列表中的索引\n",
    "    oldEntropy = computeEntropy(dataSet)     #全局的熵值\n",
    "    for i in range(len(features)):\n",
    "        unique_feature_values = set(dataSet[:,i])   #去除重复值\n",
    "        for value in unique_feature_values:\n",
    "            sub_value_set = np.array([])\n",
    "            # 提取出某一特征值的数据集,   此处有没有问题？\n",
    "            for sample in dataSet:\n",
    "                if sample[i] == value:\n",
    "                    sub_value_set = np.append(sub_value_set,sample)\n",
    "            # 计算该数据集的熵值\n",
    "            subEntropy = computeEntropy(sub_value_set)\n",
    "            subP = len(sub_value_set)/len(dataSet)\n",
    "            newEntropy += subP*subEntropy\n",
    "        gain = oldEntropy-newEntropy\n",
    "        if gain > maxGain:\n",
    "            maxGain = gain\n",
    "            bestFeature = i\n",
    "    return bestFeature"
   ]
  },
  {
   "cell_type": "code",
   "execution_count": null,
   "id": "4dd4ea21",
   "metadata": {},
   "outputs": [],
   "source": [
    "bestFeature=findBestFeature(dataSet,features)\n",
    "bestFeature"
   ]
  },
  {
   "cell_type": "code",
   "execution_count": null,
   "id": "e21f6577",
   "metadata": {},
   "outputs": [],
   "source": []
  }
 ],
 "metadata": {
  "kernelspec": {
   "display_name": "Python 3",
   "language": "python",
   "name": "python3"
  },
  "language_info": {
   "codemirror_mode": {
    "name": "ipython",
    "version": 3
   },
   "file_extension": ".py",
   "mimetype": "text/x-python",
   "name": "python",
   "nbconvert_exporter": "python",
   "pygments_lexer": "ipython3",
   "version": "3.8.8"
  }
 },
 "nbformat": 4,
 "nbformat_minor": 5
}
