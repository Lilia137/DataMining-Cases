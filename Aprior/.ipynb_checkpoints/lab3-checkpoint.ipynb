{
 "cells": [
  {
   "cell_type": "code",
   "execution_count": 241,
   "id": "5964e000",
   "metadata": {},
   "outputs": [],
   "source": [
    "import numpy as np\n",
    "import pandas as pd"
   ]
  },
  {
   "cell_type": "code",
   "execution_count": 242,
   "id": "79ff44de",
   "metadata": {},
   "outputs": [
    {
     "data": {
      "text/plain": [
       "[['good1', 'good3', 'good4'],\n",
       " ['good2', 'good3', 'good5'],\n",
       " ['good1', 'good2', 'good3', 'good5'],\n",
       " ['good2', 'good5']]"
      ]
     },
     "execution_count": 242,
     "metadata": {},
     "output_type": "execute_result"
    }
   ],
   "source": [
    "data = pd.read_csv(\"goods2.csv\",header = None)\n",
    "data = np.array(data)\n",
    "data = [[i for i in row if not pd.isna(i)] for row in data]\n",
    "data"
   ]
  },
  {
   "cell_type": "code",
   "execution_count": 243,
   "id": "d7feb0d1",
   "metadata": {},
   "outputs": [],
   "source": [
    "# 获取1候选集\n",
    "def creat_C1(data):\n",
    "    C1 = set()\n",
    "    for i in data:\n",
    "        for item in i:\n",
    "            item_set = frozenset([item])\n",
    "            C1.add(item_set)\n",
    "    return C1"
   ]
  },
  {
   "cell_type": "code",
   "execution_count": 244,
   "id": "3b28909e",
   "metadata": {},
   "outputs": [
    {
     "data": {
      "text/plain": [
       "{frozenset({'good1'}),\n",
       " frozenset({'good5'}),\n",
       " frozenset({'good4'}),\n",
       " frozenset({'good3'}),\n",
       " frozenset({'good2'})}"
      ]
     },
     "execution_count": 244,
     "metadata": {},
     "output_type": "execute_result"
    }
   ],
   "source": [
    "create_C1(data)"
   ]
  },
  {
   "cell_type": "code",
   "execution_count": 245,
   "id": "12a886a6",
   "metadata": {},
   "outputs": [],
   "source": [
    "# 判断候选集中的项集是否满足先验原理\n",
    "def is_apriori(Ck_item, Lksub1):\n",
    "    for item in Ck_item:\n",
    "        sub_Ck = Ck_item - frozenset([item])\n",
    "        if sub_Ck not in Lksub1:\n",
    "            return False\n",
    "    return True"
   ]
  },
  {
   "cell_type": "code",
   "execution_count": 246,
   "id": "b002c722",
   "metadata": {},
   "outputs": [],
   "source": [
    "# 根据k-1频繁项集生成满足先验原理的k候选集，项集合并按照顺序、相同\n",
    "def creat_Ck(Lksub1, k):\n",
    "    Ck = set()\n",
    "    list_Lksub1 = list(Lksub1)\n",
    "    for i in range(len(Lksub1)):\n",
    "        for j in range(i,len(Lksub1)):\n",
    "            l1 = list(list_Lksub1[i])\n",
    "            l2 = list(list_Lksub1[j])\n",
    "            l1.sort()\n",
    "            l2.sort()\n",
    "            if l1[0:k-2] == l2[0:k-2]:\n",
    "                Ck_item = list_Lksub1[i] | list_Lksub1[j]\n",
    "            if is_apriori(Ck_item,Lksub1):\n",
    "                Ck.add(Ck_item)\n",
    "    return Ck"
   ]
  },
  {
   "cell_type": "code",
   "execution_count": 247,
   "id": "0b9edac8",
   "metadata": {},
   "outputs": [],
   "source": [
    "# 根据k-候选项集生成k-频繁项集\n",
    "# 根据支持度计数进行删除\n",
    "def generate_Lk_by_Ck(data, Ck, min_support, support_data):\n",
    "    Lk = set()\n",
    "    item_count = {}\n",
    "    for i in data:\n",
    "        for item in Ck:\n",
    "            if item.issubset(i):\n",
    "                if item not in item_count:\n",
    "                    item_count[item]=1\n",
    "                else:\n",
    "                    item_count[item]+=1\n",
    "    len_data = len(data)\n",
    "    for item in item_count:\n",
    "        if item_count[item]/len_data >= min_support:\n",
    "            Lk.add(item)\n",
    "            support_data[item] = item_count[item]/len_data\n",
    "    return Lk"
   ]
  },
  {
   "cell_type": "code",
   "execution_count": 248,
   "id": "0efdd354",
   "metadata": {},
   "outputs": [],
   "source": [
    "# a = [1,2,34,4]\n",
    "# b = a.copy()\n",
    "# b.append(33)\n",
    "# a"
   ]
  },
  {
   "cell_type": "code",
   "execution_count": 249,
   "id": "cdac6e14",
   "metadata": {},
   "outputs": [],
   "source": [
    "# 生成频繁项集\n",
    "def generate_L(data, k, min_support):\n",
    "    support_data = {}\n",
    "    C1 = creat_C1(data)\n",
    "    L1 = generate_Lk_by_Ck(data, C1, min_support, support_data)\n",
    "    Lksub1 = L1.copy()\n",
    "    L = []\n",
    "    L.append(Lksub1)\n",
    "    for i in range(2,k+1):\n",
    "        Ci = creat_Ck(Lksub1, i)\n",
    "        Li = generate_Lk_by_Ck(data, Ci, min_support, support_data)\n",
    "        Lksub1 = Li.copy()\n",
    "        L.append(Lksub1)\n",
    "    return L, support_data"
   ]
  },
  {
   "cell_type": "code",
   "execution_count": 250,
   "id": "28b32847",
   "metadata": {},
   "outputs": [],
   "source": [
    "# 生成关联规则\n",
    "def generate_rules(L, support_data, min_conf):\n",
    "    big_rule_list = []\n",
    "    sub_set_list = []\n",
    "    for i in range(0, len(L)):\n",
    "        for freq_set in L[i]:\n",
    "            for sub_set in sub_set_list:\n",
    "                if sub_set.issubset(freq_set):\n",
    "                    conf = support_data[freq_set] / support_data[freq_set - sub_set]\n",
    "                    big_rule = [freq_set - sub_set, sub_set, conf]\n",
    "                    if conf >= min_conf and big_rule not in big_rule_list:\n",
    "                        big_rule_list.append(big_rule)\n",
    "            sub_set_list.append(freq_set)\n",
    "    return big_rule_list"
   ]
  },
  {
   "cell_type": "code",
   "execution_count": 251,
   "id": "2e9bd22c",
   "metadata": {},
   "outputs": [
    {
     "name": "stdout",
     "output_type": "stream",
     "text": [
      "['good2'] support: 0.75\n",
      "['good3'] support: 0.75\n",
      "['good1'] support: 0.5\n",
      "['good5'] support: 0.75\n",
      "['good2', 'good5'] support: 0.75\n",
      "['good3', 'good1'] support: 0.5\n",
      "['good3', 'good5'] support: 0.5\n",
      "['good2', 'good3'] support: 0.5\n",
      "['good2', 'good3', 'good5'] support: 0.5\n",
      "\n",
      "\n",
      "关联规则\n",
      "['good5'] --> ['good2'] conf:  1.0\n",
      "['good2'] --> ['good5'] conf:  1.0\n",
      "['good1'] --> ['good3'] conf:  1.0\n",
      "['good3', 'good5'] --> ['good2'] conf:  1.0\n",
      "['good2', 'good3'] --> ['good5'] conf:  1.0\n"
     ]
    }
   ],
   "source": [
    "if __name__ == \"__main__\":\n",
    "    \n",
    "    # 获取并处理数据集，去除空值\n",
    "    data = pd.read_csv(\"goods2.csv\",header = None)\n",
    "    data = np.array(data)\n",
    "    data_set = [[i for i in row if not pd.isna(i)] for row in data]\n",
    "    \n",
    "    # 生成频繁项集\n",
    "    L, support_data = generate_L(data_set, k=3, min_support=0.5)\n",
    "    \n",
    "    # 生成关联规则\n",
    "    big_rules_list = generate_rules(L, support_data, min_conf=0.7)\n",
    "    \n",
    "    # 输出频繁项集和关联规则\n",
    "    for Lk in L:\n",
    "        for freq_set in Lk:\n",
    "            print(list(freq_set),'support:',support_data[freq_set])\n",
    "    print ('\\n\\n关联规则')\n",
    "    for item in big_rules_list:\n",
    "        print(list(item[0]), \"-->\", list(item[1]),\"conf: \", item[2])"
   ]
  },
  {
   "cell_type": "code",
   "execution_count": null,
   "id": "4219293e",
   "metadata": {},
   "outputs": [],
   "source": []
  }
 ],
 "metadata": {
  "kernelspec": {
   "display_name": "Python 3",
   "language": "python",
   "name": "python3"
  },
  "language_info": {
   "codemirror_mode": {
    "name": "ipython",
    "version": 3
   },
   "file_extension": ".py",
   "mimetype": "text/x-python",
   "name": "python",
   "nbconvert_exporter": "python",
   "pygments_lexer": "ipython3",
   "version": "3.8.8"
  }
 },
 "nbformat": 4,
 "nbformat_minor": 5
}
