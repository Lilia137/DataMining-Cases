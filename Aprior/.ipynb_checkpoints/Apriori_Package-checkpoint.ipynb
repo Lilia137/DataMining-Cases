{
 "cells": [
  {
   "cell_type": "code",
   "execution_count": 1,
   "id": "2e109027",
   "metadata": {},
   "outputs": [],
   "source": [
    "import pandas as pd\n",
    "import numpy as np\n",
    "from mlxtend.preprocessing import TransactionEncoder\n",
    "from mlxtend.frequent_patterns import apriori"
   ]
  },
  {
   "cell_type": "code",
   "execution_count": 81,
   "id": "69a0e520",
   "metadata": {},
   "outputs": [],
   "source": [
    "data = pd.read_csv(\"goods2.csv\",header = None)\n",
    "data = np.array(data)\n",
    "goods = [[i for i in row if not pd.isna(i)] for row in data]"
   ]
  },
  {
   "cell_type": "code",
   "execution_count": 82,
   "id": "50857585",
   "metadata": {},
   "outputs": [
    {
     "data": {
      "text/plain": [
       "[['good1', 'good3', 'good4'],\n",
       " ['good2', 'good3', 'good5'],\n",
       " ['good1', 'good2', 'good3', 'good5'],\n",
       " ['good2', 'good5']]"
      ]
     },
     "execution_count": 82,
     "metadata": {},
     "output_type": "execute_result"
    }
   ],
   "source": [
    "goods"
   ]
  },
  {
   "cell_type": "code",
   "execution_count": 8,
   "id": "d1454f48",
   "metadata": {},
   "outputs": [],
   "source": [
    "freq_set, support_data=apriori(data,min_support=0.5,use_colnames=True)\n",
    "# freq_set['num']=freq_set['support']*4\n",
    "# freq_set"
   ]
  },
  {
   "cell_type": "code",
   "execution_count": 10,
   "id": "bd858e5f",
   "metadata": {},
   "outputs": [
    {
     "data": {
      "text/plain": [
       "'itemsets'"
      ]
     },
     "execution_count": 10,
     "metadata": {},
     "output_type": "execute_result"
    }
   ],
   "source": [
    "support_data"
   ]
  },
  {
   "cell_type": "code",
   "execution_count": null,
   "id": "4bcdc275",
   "metadata": {},
   "outputs": [],
   "source": [
    "rules = generateRules"
   ]
  }
 ],
 "metadata": {
  "kernelspec": {
   "display_name": "Python 3",
   "language": "python",
   "name": "python3"
  },
  "language_info": {
   "codemirror_mode": {
    "name": "ipython",
    "version": 3
   },
   "file_extension": ".py",
   "mimetype": "text/x-python",
   "name": "python",
   "nbconvert_exporter": "python",
   "pygments_lexer": "ipython3",
   "version": "3.8.8"
  }
 },
 "nbformat": 4,
 "nbformat_minor": 5
}
