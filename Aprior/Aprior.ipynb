{
 "cells": [
  {
   "cell_type": "code",
   "execution_count": 1,
   "id": "7b2d806e",
   "metadata": {},
   "outputs": [],
   "source": [
    "import numpy as np\n",
    "import pandas as pd"
   ]
  },
  {
   "cell_type": "code",
   "execution_count": 2,
   "id": "d66a2219",
   "metadata": {},
   "outputs": [],
   "source": [
    "# 1. 生成1项集\n",
    "# 2. 生成"
   ]
  },
  {
   "cell_type": "code",
   "execution_count": 3,
   "id": "81f13af7",
   "metadata": {},
   "outputs": [],
   "source": [
    "def create_C1(data_set):\n",
    "    C1 = set()\n",
    "    for t in data_set:\n",
    "        for item in t:\n",
    "            item_set = frozenset([item])\n",
    "            C1.add(item_set)\n",
    "    return C1"
   ]
  },
  {
   "cell_type": "code",
   "execution_count": 4,
   "id": "420429d4",
   "metadata": {},
   "outputs": [],
   "source": [
    "def is_apriori(Ck_item, Lksub1):\n",
    "    for item in Ck_item:\n",
    "        sub_Ck = Ck_item - frozenset([item])\n",
    "        if sub_Ck not in Lksub1:\n",
    "            return False\n",
    "    return True"
   ]
  },
  {
   "cell_type": "code",
   "execution_count": 5,
   "id": "945aeb61",
   "metadata": {},
   "outputs": [],
   "source": [
    "def create_Ck(Lksub1, k):\n",
    "    Ck = set()\n",
    "    len_Lksub1 = len(Lksub1)\n",
    "    list_Lksub1 = list(Lksub1)\n",
    "    print(list_Lksub1)\n",
    "    for i in range(len_Lksub1):\n",
    "        for j in range(i, len_Lksub1):\n",
    "            l1 = list(list_Lksub1[i])\n",
    "            l2 = list(list_Lksub1[j])\n",
    "            l1.sort()\n",
    "            l2.sort()\n",
    "            if l1[0:k-2] == l2[0:k-2]:\n",
    "                Ck_item = list_Lksub1[i] | list_Lksub1[j]\n",
    "                # pruning\n",
    "                if is_apriori(Ck_item, Lksub1):\n",
    "                    Ck.add(Ck_item)\n",
    "    return Ck"
   ]
  },
  {
   "cell_type": "code",
   "execution_count": 6,
   "id": "116534e6",
   "metadata": {},
   "outputs": [],
   "source": [
    "def generate_Lk_by_Ck(data_set, Ck, min_support, support_data):\n",
    "    Lk = set()\n",
    "    item_count = {}\n",
    "    for t in data_set:\n",
    "        for item in Ck:\n",
    "            if item.issubset(t):\n",
    "                if item not in item_count:\n",
    "                    item_count[item] = 1\n",
    "                else:\n",
    "                    item_count[item] += 1\n",
    "    t_num = float(len(data_set))\n",
    "    for item in item_count:\n",
    "        if (item_count[item] / t_num) >= min_support:\n",
    "            Lk.add(item)\n",
    "            support_data[item] = item_count[item] / t_num\n",
    "    return Lk\n"
   ]
  },
  {
   "cell_type": "code",
   "execution_count": 7,
   "id": "f4fb90f2",
   "metadata": {},
   "outputs": [],
   "source": [
    "# 生成频繁项集\n",
    "def generate_L(data_set, k, min_support):\n",
    "    support_data = {}\n",
    "    C1 = create_C1(data_set)\n",
    "    L1 = generate_Lk_by_Ck(data_set, C1, min_support, support_data)\n",
    "    Lksub1 = L1.copy()\n",
    "    L = []\n",
    "    L.append(Lksub1)\n",
    "    for i in range(2, k+1):\n",
    "        Ci = create_Ck(Lksub1, i)\n",
    "        Li = generate_Lk_by_Ck(data_set, Ci, min_support, support_data)\n",
    "        Lksub1 = Li.copy()\n",
    "        L.append(Lksub1)\n",
    "    return L, support_data"
   ]
  },
  {
   "cell_type": "code",
   "execution_count": 8,
   "id": "d7edcd98",
   "metadata": {},
   "outputs": [],
   "source": [
    "# 生成关联规则\n",
    "def generate_big_rules(L, support_data, min_conf):\n",
    "    big_rule_list = []\n",
    "    sub_set_list = []\n",
    "    for i in range(0, len(L)):\n",
    "        for freq_set in L[i]:\n",
    "            for sub_set in sub_set_list:\n",
    "                if sub_set.issubset(freq_set):\n",
    "                    conf = support_data[freq_set] / support_data[freq_set - sub_set]\n",
    "                    big_rule = (freq_set - sub_set, sub_set, conf)\n",
    "                    if conf >= min_conf and big_rule not in big_rule_list:\n",
    "                        # print freq_set-sub_set, \" => \", sub_set, \"conf: \", conf\n",
    "                        big_rule_list.append(big_rule)\n",
    "            sub_set_list.append(freq_set)\n",
    "    return big_rule_list"
   ]
  },
  {
   "cell_type": "code",
   "execution_count": 9,
   "id": "42288bc6",
   "metadata": {},
   "outputs": [
    {
     "name": "stdout",
     "output_type": "stream",
     "text": [
      "[frozenset({'good2'}), frozenset({'good3'}), frozenset({'good5'}), frozenset({'good1'})]\n",
      "[frozenset({'good2', 'good5'}), frozenset({'good2', 'good3'}), frozenset({'good3', 'good1'}), frozenset({'good3', 'good5'})]\n",
      "==================================================\n",
      "frequent 1-itemsets\t\tsupport\n",
      "==================================================\n",
      "frozenset({'good2'}) 0.75\n",
      "frozenset({'good3'}) 0.75\n",
      "frozenset({'good5'}) 0.75\n",
      "frozenset({'good1'}) 0.5\n",
      "==================================================\n",
      "frequent 2-itemsets\t\tsupport\n",
      "==================================================\n",
      "frozenset({'good2', 'good5'}) 0.75\n",
      "frozenset({'good2', 'good3'}) 0.5\n",
      "frozenset({'good3', 'good1'}) 0.5\n",
      "frozenset({'good3', 'good5'}) 0.5\n",
      "==================================================\n",
      "frequent 3-itemsets\t\tsupport\n",
      "==================================================\n",
      "frozenset({'good2', 'good3', 'good5'}) 0.5\n",
      "Big Rules\n",
      "frozenset({'good5'}) => frozenset({'good2'}) conf:  1.0\n",
      "frozenset({'good2'}) => frozenset({'good5'}) conf:  1.0\n",
      "frozenset({'good1'}) => frozenset({'good3'}) conf:  1.0\n",
      "frozenset({'good3', 'good5'}) => frozenset({'good2'}) conf:  1.0\n",
      "frozenset({'good2', 'good3'}) => frozenset({'good5'}) conf:  1.0\n"
     ]
    }
   ],
   "source": [
    "if __name__ == \"__main__\":\n",
    "    \n",
    "    # 获取并处理数据集，去除空值\n",
    "    data = pd.read_csv(\"goods2.csv\",header = None)\n",
    "    data = np.array(data)\n",
    "    data_set = [[i for i in row if not pd.isna(i)] for row in data]\n",
    "    \n",
    "    # 生成频繁项集\n",
    "    L, support_data = generate_L(data_set, k=3, min_support=0.5)\n",
    "    \n",
    "    # 生成关联规则\n",
    "    big_rules_list = generate_big_rules(L, support_data, min_conf=0.7)\n",
    "    \n",
    "    for Lk in L:\n",
    "        print(\"=\"*50)\n",
    "        print(\"frequent \" + str(len(list(Lk)[0])) + \"-itemsets\\t\\tsupport\")\n",
    "        print(\"=\"*50)\n",
    "        for freq_set in Lk:\n",
    "            print(freq_set, support_data[freq_set])\n",
    "    print (\"Big Rules\")\n",
    "    for item in big_rules_list:\n",
    "        print(item[0], \"=>\", item[1], \"conf: \", item[2])"
   ]
  },
  {
   "cell_type": "code",
   "execution_count": null,
   "id": "e7cfd52e",
   "metadata": {},
   "outputs": [],
   "source": []
  }
 ],
 "metadata": {
  "kernelspec": {
   "display_name": "Python 3",
   "language": "python",
   "name": "python3"
  },
  "language_info": {
   "codemirror_mode": {
    "name": "ipython",
    "version": 3
   },
   "file_extension": ".py",
   "mimetype": "text/x-python",
   "name": "python",
   "nbconvert_exporter": "python",
   "pygments_lexer": "ipython3",
   "version": "3.8.8"
  }
 },
 "nbformat": 4,
 "nbformat_minor": 5
}
